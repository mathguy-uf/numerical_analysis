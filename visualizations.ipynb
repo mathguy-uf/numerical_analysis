{
 "cells": [
  {
   "cell_type": "code",
   "execution_count": 1,
   "id": "47c7a552-2e38-4074-9cdb-7add5f5a638c",
   "metadata": {},
   "outputs": [
    {
     "name": "stdout",
     "output_type": "stream",
     "text": [
      "Requirement already satisfied: scipy in c:\\python311\\lib\\site-packages (1.12.0)\n",
      "Requirement already satisfied: numpy<1.29.0,>=1.22.4 in c:\\python311\\lib\\site-packages (from scipy) (1.26.2)\n"
     ]
    },
    {
     "name": "stderr",
     "output_type": "stream",
     "text": [
      "\n",
      "[notice] A new release of pip available: 22.3.1 -> 23.3.2\n",
      "[notice] To update, run: python.exe -m pip install --upgrade pip\n"
     ]
    }
   ],
   "source": [
    "import sys\n",
    "!{sys.executable} -m pip install scipy"
   ]
  },
  {
   "cell_type": "code",
   "execution_count": 6,
   "id": "1b03e7d8-4a82-4e89-8a72-2deac71a438c",
   "metadata": {},
   "outputs": [],
   "source": [
    "import numpy as np\n",
    "from scipy.misc import derivative\n",
    "import matplotlib.pyplot as plt"
   ]
  },
  {
   "cell_type": "code",
   "execution_count": 7,
   "id": "dd4b76a1-3f45-4d49-afb8-921e70d03ed7",
   "metadata": {},
   "outputs": [],
   "source": [
    "def plot(xs : np.array, f, param_dict) -> None:\n",
    "    \"\"\"\n",
    "        plot the function f at the points given by the np array xs.\n",
    "\n",
    "        Input:\n",
    "            xs : np.array\n",
    "            f : lambda\n",
    "            param_dict : param dictionary for pyplot.plot  \n",
    "        Output:\n",
    "            a plot of f at each of the points xs on a coordinate plane\n",
    "    \"\"\"\n",
    "    plt.plot(xs, f(xs), **param_dict)\n",
    "    plt.xlabel(\"x\")\n",
    "    plt.ylabel(\"y\")\n",
    "   \n",
    "    return None\n",
    "\n",
    "def plot_points(points : np.ndarray, param_dict) -> None:\n",
    "    \"\"\"\n",
    "        plot a series of ponints given by \"points\" using parameters\n",
    "        from the param dict.\n",
    "\n",
    "        Input:\n",
    "            axis : np.array with shape (d,n), where n is the number\n",
    "                    of points to be plotted and d is the dimension\n",
    "                    of the coordinate system\n",
    "            param_dict : param dictionary for pyplot.plot\n",
    "        Output\n",
    "            the axis of two points plotted on a coordinate plane\n",
    "    \"\"\"\n",
    "    plt.plot(points[0], points[1], **param_dict)\n",
    "    \n",
    "    return None\n",
    "\n",
    "\n",
    "def spiderweb_diagram(f, x_0 : float = 0., n : int = 100) -> np.ndarray:\n",
    "    \"\"\"\n",
    "        Prepare the spiderweb diagram from starting point (x = x_0, y = f(x_0)) and continue for n steps\n",
    "\n",
    "        Input:\n",
    "            f : function to iterate\n",
    "            x_0 : initial x value.\n",
    "            n : number of times to iterate the function.\n",
    "        Output:\n",
    "            the points defining the spiderweb diagram for the fixed-point iteration algorithm of f starting\n",
    "            at (x_0, f(x_0)). Note that this is not the same as the orbit of x_0 on f, because it must include\n",
    "            the points (x_i, x_i) for each i'th iteration of f.\n",
    "    \"\"\"\n",
    "    # TODO: Dream up a way of doing this without a loop\n",
    "    points = np.zeros(shape=(n*2 - 1, 2))\n",
    "    x_i = x_0\n",
    "    y_i = x_i\n",
    "    for point in points :\n",
    "        if x_i == y_i:\n",
    "            point[0] = x_i\n",
    "            point[1] = f(x_i)\n",
    "            y_i = f(x_i)\n",
    "        else:\n",
    "            point[0] = y_i\n",
    "            point[1] = y_i\n",
    "            x_i = y_i\n",
    "    \n",
    "    return points.T # return the transpose of the points arr, because this is better for plotting\n",
    "\n",
    "def sym_arr(range : float, steps : int) -> np.array :\n",
    "    \"\"\"\n",
    "        creates a symmetrical numpy array with evenly spaced entries centered on 0.\n",
    "        Input:\n",
    "            range : the range of the entries in the array (max - min)\n",
    "            steps : the number of entries in the array\n",
    "        Output:\n",
    "            a symmetrical array of \"steps\" entries, separated by \"step\"\n",
    "            with a range of \"range.\"\n",
    "    \"\"\"\n",
    "    # TODO: Handle the case that steps is 0 or negative.\n",
    "\n",
    "    # make an intermediate array of all ones with an extra entry at the beginning.\n",
    "    # set said entry to 0 to ensure that the range is correct.\n",
    "    intermediate_arr = np.ones((steps + 1, ))\n",
    "    intermediate_arr[0] = 0\n",
    "\n",
    "    # use the cumsum function to set the entries of the intermediate array to \n",
    "    # a series of consecutive integers. Shift and scale entries to arrive at\n",
    "    # the desired array.\n",
    "    intermediate_arr = intermediate_arr.cumsum() / steps * range - (range / 2)\n",
    "    \n",
    "    return intermediate_arr"
   ]
  },
  {
   "cell_type": "code",
   "execution_count": 38,
   "id": "0b5fde8d-ed7f-4aca-8f55-f50f0943bfc2",
   "metadata": {},
   "outputs": [],
   "source": [
    "# This cell defines constants for use throughout the rest of this workbook\n",
    "\n",
    "# place the function you want to examine in the lambda on the next line\n",
    "c = -2\n",
    "f = lambda x : x**2 + c\n",
    "y_x = lambda x : x\n",
    "\n",
    "range = 4\n",
    "steps = 100\n",
    "zoom_factor = 0.1\n",
    "\n",
    "# make a numpy array of \"steps\" x values with range \"range\" that is symmetric about the y-axis\n",
    "xs = sym_arr(range, steps)\n",
    "x_axis = np.array([[-(range / 2) - zoom_factor * (range / 2), range / 2 + zoom_factor * (range / 2)],[0,0]]) # two points to draw the x-axis\n",
    "\n",
    "min_y = min(f(xs).min(), -(range / 2) - zoom_factor * (range / 2))\n",
    "max_y = max(f(xs).max(), range / 2 + zoom_factor * (range / 2))\n",
    "y_axis = np.array([[0,0],[min_y, max_y]])\n",
    "axis_plot_dict = {\"color\": \"black\", \"linestyle\": \"--\"}"
   ]
  },
  {
   "cell_type": "code",
   "execution_count": 40,
   "id": "17206e07-b86c-43f2-988c-4b1050396b99",
   "metadata": {},
   "outputs": [
    {
     "data": {
      "image/png": "[encoded data removed]",
      "text/plain": [
       "<Figure size 640x480 with 1 Axes>"
      ]
     },
     "metadata": {},
     "output_type": "display_data"
    }
   ],
   "source": [
    "# Plot the function f, the line y = x, and the x and y axes on the coordinate plane\n",
    "f_color = \"blue\"\n",
    "fixed_color = \"orange\"\n",
    "plt.title(f'f(x) ({f_color}) with x = y ({fixed_color})')\n",
    "plot(xs, f, {\"color\": f_color, \"linestyle\": \"-\"})\n",
    "plot(xs, y_x, {\"color\": fixed_color, \"linestyle\": \"-\"})\n",
    "plot_points(x_axis, axis_plot_dict)\n",
    "plot_points(y_axis, axis_plot_dict)\n",
    "\n",
    "# args for the spiderweb\n",
    "x_0 = 1.1\n",
    "n = 10\n",
    "\n",
    "web_points = spiderweb_diagram(f, x_0, n)\n",
    "plot_points(web_points, {\"color\":\"black\",\"linestyle\":\"-\",\"marker\":\"x\"})"
   ]
  },
  {
   "cell_type": "code",
   "execution_count": 15,
   "id": "fc7bf052-269b-4c29-937a-1381280a9e1d",
   "metadata": {},
   "outputs": [],
   "source": []
  },
  {
   "cell_type": "code",
   "execution_count": null,
   "id": "44e0ad1b-63d7-4355-bdc1-88b513ea7968",
   "metadata": {},
   "outputs": [],
   "source": []
  }
 ],
 "metadata": {
  "kernelspec": {
   "display_name": "Python 3 (ipykernel)",
   "language": "python",
   "name": "python3"
  },
  "language_info": {
   "codemirror_mode": {
    "name": "ipython",
    "version": 3
   },
   "file_extension": ".py",
   "mimetype": "text/x-python",
   "name": "python",
   "nbconvert_exporter": "python",
   "pygments_lexer": "ipython3",
   "version": "3.11.3"
  }
 },
 "nbformat": 4,
 "nbformat_minor": 5
}
