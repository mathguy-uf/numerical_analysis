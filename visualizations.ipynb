{
 "cells": [
  {
   "cell_type": "code",
   "execution_count": 1,
   "id": "47c7a552-2e38-4074-9cdb-7add5f5a638c",
   "metadata": {},
   "outputs": [
    {
     "name": "stdout",
     "output_type": "stream",
     "text": [
      "Requirement already satisfied: scipy in c:\\python311\\lib\\site-packages (1.12.0)\n",
      "Requirement already satisfied: numpy<1.29.0,>=1.22.4 in c:\\python311\\lib\\site-packages (from scipy) (1.26.2)\n"
     ]
    },
    {
     "name": "stderr",
     "output_type": "stream",
     "text": [
      "\n",
      "[notice] A new release of pip available: 22.3.1 -> 23.3.2\n",
      "[notice] To update, run: python.exe -m pip install --upgrade pip\n"
     ]
    }
   ],
   "source": [
    "import sys\n",
    "!{sys.executable} -m pip install scipy"
   ]
  },
  {
   "cell_type": "code",
   "execution_count": 2,
   "id": "1b03e7d8-4a82-4e89-8a72-2deac71a438c",
   "metadata": {},
   "outputs": [],
   "source": [
    "import numpy as np\n",
    "from scipy.misc import derivative\n",
    "import matplotlib.pyplot as plt"
   ]
  },
  {
   "cell_type": "code",
   "execution_count": 65,
   "id": "dd4b76a1-3f45-4d49-afb8-921e70d03ed7",
   "metadata": {},
   "outputs": [],
   "source": [
    "def plot(xs : np.array, f, param_dict) -> None:\n",
    "    \"\"\"\n",
    "        plot the function f at the points given by the np array xs.\n",
    "\n",
    "        Input:\n",
    "            xs : np.array\n",
    "            f : lambda\n",
    "            param_dict : param dictionary for pyplot.plot  \n",
    "        Output:\n",
    "            a plot of f at each of the points xs on a coordinate plane\n",
    "    \"\"\"\n",
    "    plt.plot(xs, f(xs), **param_dict)\n",
    "    plt.xlabel(\"x\")\n",
    "    plt.ylabel(\"y\")\n",
    "\n",
    "def plot_axis(axis : np.ndarray, param_dict) -> None:\n",
    "    \"\"\"\n",
    "        plot an axis\n",
    "\n",
    "        Input:\n",
    "            axis : np.array with shape (2,2)\n",
    "            param_dict : param dictionary for pyplot.plot\n",
    "        Output\n",
    "            the axis of two points plotted on a coordinate plane\n",
    "    \"\"\"\n",
    "    plt.plot(axis[0], axis[1], **param_dict)\n",
    "\n",
    "def sym_arr(range : float, steps : int) -> np.array :\n",
    "    \"\"\"\n",
    "        creates a symmetrical numpy array with evenly spaced entries centered on 0.\n",
    "        Input:\n",
    "            range : the range of the entries in the array (max - min)\n",
    "            steps : the number of entries in the array\n",
    "        Output:\n",
    "            a symmetrical array of \"steps\" entries, separated by \"step\"\n",
    "            with a range of \"range.\"\n",
    "    \"\"\"\n",
    "    # TODO: Handle the case that steps is 0 or negative.\n",
    "\n",
    "    # make an intermediate array of all ones with an extra entry at the beginning.\n",
    "    # set said entry to 0 to ensure that the range is correct.\n",
    "    intermediate_arr = np.ones((steps + 1, ))\n",
    "    intermediate_arr[0] = 0\n",
    "\n",
    "    # use the cumsum function to set the entries of the intermediate array to \n",
    "    # a series of consecutive integers. Shift and scale entries to arrive at\n",
    "    # the desired array.\n",
    "    intermediate_arr = intermediate_arr.cumsum() / steps * range - (range / 2)\n",
    "    \n",
    "    return intermediate_arr"
   ]
  },
  {
   "cell_type": "code",
   "execution_count": 66,
   "id": "0b5fde8d-ed7f-4aca-8f55-f50f0943bfc2",
   "metadata": {},
   "outputs": [],
   "source": [
    "# This cell defines constants for use throughout the rest of this workbook\n",
    "\n",
    "# place the function you want to examine in the lambda on the next line\n",
    "f = lambda x : x**2 - 2\n",
    "y_x = lambda x : x\n",
    "\n",
    "range = 4\n",
    "steps = 100\n",
    "zoom_factor = 0.1\n",
    "\n",
    "# make a numpy array of \"steps\" x values with range \"range\" that is symmetric about the y-axis\n",
    "xs = sym_arr(range, steps)\n",
    "x_axis = np.array([[-(range / 2) - zoom_factor * (range / 2),range / 2 + zoom_factor * (range / 2)],[0,0]]) # two points to draw the x-axis\n",
    "\n",
    "min_y = f(xs).min()\n",
    "max_y = f(xs).max()\n",
    "y_axis = np.array([[0,0],[min_y - zoom_factor * abs(min_y), max_y + zoom_factor * abs(max_y)]]) # two points to draw the y-axis\n",
    "\n",
    "axis_plot_dict = {\"color\": \"black\", \"linestyle\": \"--\"}"
   ]
  },
  {
   "cell_type": "code",
   "execution_count": 68,
   "id": "17206e07-b86c-43f2-988c-4b1050396b99",
   "metadata": {},
   "outputs": [
    {
     "data": {
      "image/png": "[encoded data removed]",
      "text/plain": [
       "<Figure size 640x480 with 1 Axes>"
      ]
     },
     "metadata": {},
     "output_type": "display_data"
    }
   ],
   "source": [
    "# Plot the function f, the line y = x, and the x and y axes on the coordinate plane\n",
    "plot(xs, f, {\"color\": \"blue\", \"linestyle\": \"-\"})\n",
    "plot(xs, y_x, {\"color\": \"orange\", \"linestyle\": \"-\"})\n",
    "plot_axis(x_axis, axis_plot_dict)\n",
    "plot_axis(y_axis, axis_plot_dict)\n",
    "\n",
    "# Prepare the spider diagram from starting point x = \"start\" and continue for \"step\" steps"
   ]
  },
  {
   "cell_type": "code",
   "execution_count": 15,
   "id": "fc7bf052-269b-4c29-937a-1381280a9e1d",
   "metadata": {},
   "outputs": [],
   "source": []
  },
  {
   "cell_type": "code",
   "execution_count": null,
   "id": "44e0ad1b-63d7-4355-bdc1-88b513ea7968",
   "metadata": {},
   "outputs": [],
   "source": []
  }
 ],
 "metadata": {
  "kernelspec": {
   "display_name": "Python 3 (ipykernel)",
   "language": "python",
   "name": "python3"
  },
  "language_info": {
   "codemirror_mode": {
    "name": "ipython",
    "version": 3
   },
   "file_extension": ".py",
   "mimetype": "text/x-python",
   "name": "python",
   "nbconvert_exporter": "python",
   "pygments_lexer": "ipython3",
   "version": "3.11.3"
  }
 },
 "nbformat": 4,
 "nbformat_minor": 5
}
