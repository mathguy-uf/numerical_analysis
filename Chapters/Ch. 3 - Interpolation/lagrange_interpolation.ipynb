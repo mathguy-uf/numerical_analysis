{
 "cells": [
  {
   "cell_type": "markdown",
   "id": "9adb9e12",
   "metadata": {},
   "source": []
  },
  {
   "cell_type": "code",
   "execution_count": 2,
   "id": "8a59c7cd",
   "metadata": {},
   "outputs": [],
   "source": [
    "# Importing the combinations function from the math module\n",
    "from math import comb\n",
    "\n",
    "def lagrange_interpolation(x_hat, x_values, f_values):\n",
    "    \"\"\"\n",
    "    Lagrange polynomial interpolation algorithm.\n",
    "\n",
    "    Parameters:\n",
    "    - x_hat: The value at which the interpolation is desired.\n",
    "    - x_values: List of abscissas x0, x1, ..., xn.\n",
    "    - f_values: List of ordinates f(x0), f(x1), ..., f(xn).\n",
    "\n",
    "    Returns:\n",
    "    - P: Table of values. P[0][n] holds the desired value, Ln(x_hat).\n",
    "    \"\"\"\n",
    "    n = len(x_values) - 1\n",
    "    P = [[0] * (n + 1) for _ in range(n + 1)]\n",
    "\n",
    "    # Step 1: Initialize P[i][0] with f(xi)\n",
    "    for i in range(n + 1):\n",
    "        P[i][0] = f_values[i]\n",
    "\n",
    "    # Step 3: Nested loops for Lagrange interpolation\n",
    "    for j in range(1, n + 1):\n",
    "        for i in range(0, n - j + 1):\n",
    "            # Step 5: Calculate P[i][j]\n",
    "            P[i][j] = ((x_hat - x_values[i + j]) * P[i][j - 1] -\n",
    "                       (x_hat - x_values[i]) * P[i + 1][j - 1]) / (x_values[i] - x_values[i + j])\n",
    "\n",
    "    return P[0][n]\n"
   ]
  },
  {
   "cell_type": "code",
   "execution_count": 3,
   "id": "0bb5c8c4",
   "metadata": {},
   "outputs": [
    {
     "name": "stdout",
     "output_type": "stream",
     "text": [
      "L(2.5) = 2.5\n"
     ]
    }
   ],
   "source": [
    "# Example usage:\n",
    "# Given data points\n",
    "x_values = [1, 2, 3, 4]\n",
    "f_values = [2, 1, 4, 3]\n",
    "# Value at which interpolation is desired\n",
    "x_hat_value = 2.5\n",
    "\n",
    "# Perform Lagrange interpolation\n",
    "result = lagrange_interpolation(x_hat_value, x_values, f_values)\n",
    "\n",
    "# Display the result\n",
    "print(f\"L({x_hat_value}) =\", result)\n"
   ]
  },
  {
   "cell_type": "code",
   "execution_count": null,
   "id": "2ce4a40a",
   "metadata": {},
   "outputs": [],
   "source": []
  }
 ],
 "metadata": {
  "kernelspec": {
   "display_name": "Python 3 (ipykernel)",
   "language": "python",
   "name": "python3"
  },
  "language_info": {
   "codemirror_mode": {
    "name": "ipython",
    "version": 3
   },
   "file_extension": ".py",
   "mimetype": "text/x-python",
   "name": "python",
   "nbconvert_exporter": "python",
   "pygments_lexer": "ipython3",
   "version": "3.11.4"
  }
 },
 "nbformat": 4,
 "nbformat_minor": 5
}
