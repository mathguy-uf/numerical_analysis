{
 "cells": [
  {
   "cell_type": "markdown",
   "id": "72601152",
   "metadata": {},
   "source": [
    "### Oringially written in Octave by Dr. Len Brin:\n",
    "\n",
    "### This function calculates the values of the fractal interpolating function, f, passing through (0,f_0), (alpha,f_alpha), and (1,f_1) (its derivative and its integral).\n",
    "#### Tea Time Numerical Analysis: \n",
    "http://bigbook.or.kr/bbs/data/file/bo14/1535290902_VrStcuvh_TeaTime_Numerical_Analysis_Leon_Q._Brin.pdf "
   ]
  },
  {
   "cell_type": "code",
   "execution_count": null,
   "id": "bd72fc04",
   "metadata": {},
   "outputs": [],
   "source": [
    "# Importing the logarithmic function from the math module\n",
    "from math import log\n",
    "\n",
    "# Define a function for the fractal interpolator\n",
    "def fractal_interpolator(x, f, alpha, d1, d2):\n",
    "    # Calculate intermediate values based on input parameters\n",
    "    f1 = f[0] * (1 - d1)\n",
    "    c1 = f[1] - d1 * f[2] - f1\n",
    "    f2 = f[1] - d2 * f[0]\n",
    "    c2 = (1 - d2) * f[2] - f2\n",
    "    F1 = (alpha * (f1 + c1 / 2) + (1 - alpha) * (f2 + c2 / 2)) / (1 - (1 - alpha) * d2 - alpha * d1)\n",
    "    FA = alpha * (f1 + c1 / 2 + d1 * F1)\n",
    "    \n",
    "    # Initialize left and right boundaries for binary search\n",
    "    l, r = 0, 1\n",
    "    a = []  # List to store binary values during binary search\n",
    "    \n",
    "    # Determine the number of iterations for binary search based on alpha\n",
    "    if alpha > 1 / 2:\n",
    "        its = int(abs(log(10 ** -16) / log(alpha)))\n",
    "    else:\n",
    "        its = int(abs(log(10 ** -16) / log(1 - alpha)))\n",
    "    \n",
    "    # Perform binary search to find the appropriate interval\n",
    "    for i in range(its):\n",
    "        if alpha > 1 / 2:\n",
    "            h = (r - l) * alpha\n",
    "            m = l + h\n",
    "        else:\n",
    "            h = (r - l) * (1 - alpha)\n",
    "            m = r - h\n",
    "        \n",
    "        # Update boundaries and append binary value to the list\n",
    "        if x < m:\n",
    "            a.append(0)\n",
    "            r = m\n",
    "        else:\n",
    "            a.append(1)\n",
    "            l = m\n",
    "    \n",
    "    x = 0  # Reset x to 0 for the final calculation\n",
    "    y = c1 / (alpha - d1)\n",
    "    yy = f[0]\n",
    "    yyy = 0\n",
    "    \n",
    "    # Perform the fractal interpolation using binary values obtained\n",
    "    for i in range(its - 1, -1, -1):\n",
    "        if a[i] == 0:\n",
    "            y = (c1 + d1 * y) / alpha\n",
    "            yy = c1 * x + d1 * yy + f1\n",
    "            yyy = alpha * (f1 * x + c1 / 2 * x ** 2 + d1 * yyy)\n",
    "            x = alpha * x\n",
    "        else:\n",
    "            y = (c2 + d2 * y) / (1 - alpha)\n",
    "            yy = c2 * x + d2 * yy + f2\n",
    "            yyy = FA + (1 - alpha) * (f2 * x + c2 / 2 * x ** 2 + d2 * yyy)\n",
    "            x = alpha + (1 - alpha) * x\n",
    "    \n",
    "    # Return the calculated values\n",
    "    return y, yy, yyy\n"
   ]
  },
  {
   "cell_type": "code",
   "execution_count": null,
   "id": "6d8f13da",
   "metadata": {},
   "outputs": [],
   "source": [
    "# Example usage:\n",
    "x_value = 0.5\n",
    "f_values = [0.2, 0.8, 0.5]\n",
    "alpha_value = 0.6\n",
    "d1_value = 0.2\n",
    "d2_value = 0.3\n",
    "\n",
    "result = fractal_interpolator(x_value, f_values, alpha_value, d1_value, d2_value)\n",
    "print(result)"
   ]
  },
  {
   "cell_type": "code",
   "execution_count": null,
   "id": "f2b1d7c9",
   "metadata": {},
   "outputs": [],
   "source": []
  }
 ],
 "metadata": {
  "kernelspec": {
   "display_name": "Python 3 (ipykernel)",
   "language": "python",
   "name": "python3"
  },
  "language_info": {
   "codemirror_mode": {
    "name": "ipython",
    "version": 3
   },
   "file_extension": ".py",
   "mimetype": "text/x-python",
   "name": "python",
   "nbconvert_exporter": "python",
   "pygments_lexer": "ipython3",
   "version": "3.11.4"
  }
 },
 "nbformat": 4,
 "nbformat_minor": 5
}
