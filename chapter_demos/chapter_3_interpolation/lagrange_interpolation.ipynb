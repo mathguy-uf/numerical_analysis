{
 "cells": [
  {
   "cell_type": "markdown",
   "id": "9adb9e12",
   "metadata": {},
   "source": [
    "### The Lagrange Interpolation function is based on the pseudo-code provided in the Tea Time Numerical analysis book. It performs the Lagrange polynomial interpolation algorithm and user is able to change data and parameters to solve.\n",
    "\n",
    "#### Tea Time Numerical Analysis: \n",
    "http://bigbook.or.kr/bbs/data/file/bo14/1535290902_VrStcuvh_TeaTime_Numerical_Analysis_Leon_Q._Brin.pdf "
   ]
  },
  {
   "cell_type": "code",
   "execution_count": null,
   "id": "8a59c7cd",
   "metadata": {},
   "outputs": [],
   "source": [
    "# Importing the combinations function from the math module\n",
    "from math import comb\n",
    "\n",
    "def lagrange_interpolation(x_hat, x_values, f_values):\n",
    "    \"\"\"\n",
    "    Lagrange polynomial interpolation algorithm.\n",
    "\n",
    "    Parameters:\n",
    "    - x_hat: The value at which the interpolation is desired.\n",
    "    - x_values: List of abscissas x0, x1, ..., xn.\n",
    "    - f_values: List of ordinates f(x0), f(x1), ..., f(xn).\n",
    "\n",
    "    Returns:\n",
    "    - P: Table of values. P[0][n] holds the desired value, Ln(x_hat).\n",
    "    \"\"\"\n",
    "    n = len(x_values) - 1\n",
    "    P = [[0] * (n + 1) for _ in range(n + 1)]\n",
    "\n",
    "    # Step 1: Initialize P[i][0] with f(xi)\n",
    "    for i in range(n + 1):\n",
    "        P[i][0] = f_values[i]\n",
    "\n",
    "    # Step 3: Nested loops for Lagrange interpolation\n",
    "    for j in range(1, n + 1):\n",
    "        for i in range(0, n - j + 1):\n",
    "            # Step 5: Calculate P[i][j]\n",
    "            P[i][j] = ((x_hat - x_values[i + j]) * P[i][j - 1] -\n",
    "                       (x_hat - x_values[i]) * P[i + 1][j - 1]) / (x_values[i] - x_values[i + j])\n",
    "\n",
    "    return P[0][n]\n"
   ]
  },
  {
   "cell_type": "code",
   "execution_count": null,
   "id": "0bb5c8c4",
   "metadata": {},
   "outputs": [],
   "source": [
    "# Example usage:\n",
    "# Given data points\n",
    "x_values = [1, 2, 3, 4]\n",
    "f_values = [2, 1, 4, 3]\n",
    "# Value at which interpolation is desired\n",
    "x_hat_value = 2.5\n",
    "\n",
    "# Perform Lagrange interpolation\n",
    "result = lagrange_interpolation(x_hat_value, x_values, f_values)\n",
    "\n",
    "# Display the result\n",
    "print(f\"L({x_hat_value}) =\", result)\n"
   ]
  },
  {
   "cell_type": "markdown",
   "id": "7cfc1d0a",
   "metadata": {},
   "source": [
    "###  Originally written in Octave by Leon Brin in the same section, the purpose of the nevilles function implements Neville's method for computing the value P(xhat) of the interpolating polynomial P passing through the data (x(1),y(1)), (x(2),y(2)),...,(x(n),y(n)). It gives a table of values Q; Q(1,n)=P(xhat).\n",
    "\n",
    "#### Tea Time Numerical Analysis: \n",
    "http://bigbook.or.kr/bbs/data/file/bo14/1535290902_VrStcuvh_TeaTime_Numerical_Analysis_Leon_Q._Brin.pdf "
   ]
  },
  {
   "cell_type": "code",
   "execution_count": null,
   "id": "2ce4a40a",
   "metadata": {},
   "outputs": [],
   "source": [
    "def nevilles(xhat, x, y):\n",
    "    \"\"\"\n",
    "    Neville's method for computing the value P(xhat) of the interpolating\n",
    "    polynomial P passing through the data (x(1), y(1)), (x(2), y(2)), ..., (x(n), y(n)).\n",
    "    \n",
    "    Parameters:\n",
    "    - xhat: Value at which to evaluate the interpolating polynomial.\n",
    "    - x: Array of abscissas.\n",
    "    - y: Array of ordinates.\n",
    "    \n",
    "    Returns:\n",
    "    - Interpolated value P(xhat).\n",
    "    \"\"\"\n",
    "    n = len(x)\n",
    "    \n",
    "    Q = [[0] * n for _ in range(n)]  # Initialize the table\n",
    "    \n",
    "    # Initialize the first column of the table with the given y values\n",
    "    for i in range(n):\n",
    "        Q[i][0] = y[i]\n",
    "    \n",
    "    # Fill in the rest of the table using Neville's method\n",
    "    for j in range(1, n):\n",
    "        for i in range(n - j):\n",
    "            Q[i][j] = ((xhat - x[i + j]) * Q[i][j - 1] - (xhat - x[i]) * Q[i + 1][j - 1]) / (x[i] - x[i + j])\n",
    "    \n",
    "    return Q[0][-1]\n"
   ]
  },
  {
   "cell_type": "code",
   "execution_count": null,
   "id": "31465071",
   "metadata": {},
   "outputs": [],
   "source": [
    "# Example usage:\n",
    "x_values = [1, 2, 3, 4]\n",
    "y_values = [2, 4, 1, 3]\n",
    "xhat_value = 2.5\n",
    "\n",
    "result = nevilles(xhat_value, x_values, y_values)\n",
    "print(f\"P({xhat_value}) =\", result)"
   ]
  }
 ],
 "metadata": {
  "kernelspec": {
   "display_name": "Python 3 (ipykernel)",
   "language": "python",
   "name": "python3"
  },
  "language_info": {
   "codemirror_mode": {
    "name": "ipython",
    "version": 3
   },
   "file_extension": ".py",
   "mimetype": "text/x-python",
   "name": "python",
   "nbconvert_exporter": "python",
   "pygments_lexer": "ipython3",
   "version": "3.11.4"
  }
 },
 "nbformat": 4,
 "nbformat_minor": 5
}
