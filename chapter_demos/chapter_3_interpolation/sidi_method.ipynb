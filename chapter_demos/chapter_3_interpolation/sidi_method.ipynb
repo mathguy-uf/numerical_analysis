{
 "cells": [
  {
   "cell_type": "markdown",
   "id": "b15f35ca",
   "metadata": {},
   "source": [
    "## This is the code for Sidi’s kth degree root-finding method based on the pseudo-code given in the Newton's Polynomial Interpolation section. To see a visualization of Newton's Polynomial Interpolation, please check out interpolation_demo.\n",
    "\n"
   ]
  },
  {
   "cell_type": "code",
   "execution_count": null,
   "id": "05a8dd06",
   "metadata": {},
   "outputs": [],
   "source": [
    "import math\n",
    "import numpy as np"
   ]
  },
  {
   "cell_type": "code",
   "execution_count": null,
   "id": "26a32c6a",
   "metadata": {},
   "outputs": [],
   "source": [
    "def sidi_helper(x_values, g_table):\n",
    "    # Get the number of data points (k)\n",
    "    k = len(x_values) - 1\n",
    "\n",
    "    # Step 1: Set s = g0,k\n",
    "    s = g_table[k][0]\n",
    "\n",
    "    # Step 2: For i = 1, 2, ..., k-1 do Step 3\n",
    "    for i in range(1, k):\n",
    "        # Step 3: Update s using the recurrence relation\n",
    "        s = (x_values[k] - x_values[i]) * s + g_table[k - i][i]\n",
    "\n",
    "    # Step 4: Calculate xk+1 using the formula\n",
    "    gk_0 = g_table[0][k]\n",
    "    xk_1 = x_values[k] - gk_0 / s\n",
    "\n",
    "    # Output: Approximation xk+1\n",
    "    return xk_1"
   ]
  },
  {
   "cell_type": "code",
   "execution_count": null,
   "id": "99029123",
   "metadata": {},
   "outputs": [],
   "source": [
    "def sidi(x, TOL, N, g):\n",
    "    \"\"\"\n",
    "    Sidi's Method for finding a fixed point of a function.\n",
    "\n",
    "    Parameters:\n",
    "    - x: Initial values x0, x1, ..., xk.\n",
    "    - TOL: Desired accuracy.\n",
    "    - N: Maximum number of iterations.\n",
    "    - g: Function g.\n",
    "\n",
    "    Returns:\n",
    "    - Approximation x near the exact fixed point or a message of failure.\n",
    "    - Number of iterations.\n",
    "    \"\"\"\n",
    "    \n",
    "    k = len(x)  # \n",
    "    \n",
    "    # Initialize the table of divided differences G\n",
    "    G = np.zeros((k+1, k+1))\n",
    "    for i in range(k):\n",
    "        G[i,0] = g(x[i])\n",
    "        \n",
    "    # Calculate divided differences using nested loops\n",
    "    for j in range(1, k):\n",
    "        for i in range(0, k-j):\n",
    "            G[i,j] = (G[i + 1][j - 1] - G[i][j - 1]) / (x[i + j] - x[i])\n",
    "            \n",
    "    # Iterate using Sidi's Method\n",
    "    for i in range(1, N):\n",
    "        # Compute x_val using sidi_helper function\n",
    "        x_val = sidi_helper(x, G)\n",
    "\n",
    "        if abs(x_val - x[k-1]) < TOL:\n",
    "            return x_val, i+1  # Return the result if within tolerance\n",
    "\n",
    "        # Computing G\n",
    "        G[k, 0] = g(x_val)\n",
    "\n",
    "        for i in range(k-1, 1, -1):\n",
    "            G[i, k - i] = (G[i + 1, k - i] - G[i, k - 1 - i]) / (x_val - x[i])\n",
    "\n",
    "        # Update the initial values list\n",
    "        x[:-1] = x[1:]\n",
    "        x[-1] = x_val\n",
    "\n",
    "        # Update the divided differences table\n",
    "        index = 0\n",
    "        for k_now in range(k-1, 1, -1):\n",
    "            G[k_now, index] = G[k_now + 1, index]\n",
    "            index += 1\n",
    "        \n",
    "        G[0, k] = G[1, k]\n",
    "\n",
    "    return \"Method failed. Maximum iterations exceeded.\"\n"
   ]
  },
  {
   "cell_type": "code",
   "execution_count": null,
   "id": "5b79edfc",
   "metadata": {},
   "outputs": [],
   "source": [
    "# Example usage:\n",
    "def g(x):\n",
    "    return 3*x\n",
    "\n",
    "# Initial values\n",
    "initial_x_values = [10.0, 15.0, 20.0]\n",
    "\n",
    "# Tolerance and maximum iterations\n",
    "TOL = 1e-8\n",
    "N = 100\n",
    "result = sidi(initial_x_values, TOL, N, g)\n",
    "\n",
    "# Print result or failure message\n",
    "print(\"Result and iterations:\", result)"
   ]
  },
  {
   "cell_type": "code",
   "execution_count": null,
   "id": "cf3e2817",
   "metadata": {},
   "outputs": [],
   "source": [
    "def g(x):\n",
    "    return x**2 - 2\n",
    "\n",
    "# Test case\n",
    "initial_values = [1.0, 1.5, 2.0]\n",
    "TOL = 1e-8\n",
    "N = 100\n",
    "\n",
    "result = sidi(initial_values, TOL, N, g)\n",
    "\n",
    "print(\"Result and iterations:\", result)"
   ]
  },
  {
   "cell_type": "code",
   "execution_count": null,
   "id": "edaf006a",
   "metadata": {},
   "outputs": [],
   "source": []
  }
 ],
 "metadata": {
  "kernelspec": {
   "display_name": "Python 3 (ipykernel)",
   "language": "python",
   "name": "python3"
  },
  "language_info": {
   "codemirror_mode": {
    "name": "ipython",
    "version": 3
   },
   "file_extension": ".py",
   "mimetype": "text/x-python",
   "name": "python",
   "nbconvert_exporter": "python",
   "pygments_lexer": "ipython3",
   "version": "3.11.4"
  }
 },
 "nbformat": 4,
 "nbformat_minor": 5
}
