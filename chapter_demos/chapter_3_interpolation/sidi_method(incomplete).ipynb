{
 "cells": [
  {
   "cell_type": "markdown",
   "id": "b15f35ca",
   "metadata": {},
   "source": [
    "## This is the code for Sidi’s kth degree root-finding method based on the pseudo-code given in the Newton's Polynomial Interpolation section. To see a visualization of Newton's Polynomial Interpolation, please check out interpolation_demo.\n",
    "\n"
   ]
  },
  {
   "cell_type": "code",
   "execution_count": 2,
   "id": "05a8dd06",
   "metadata": {},
   "outputs": [],
   "source": [
    "import math"
   ]
  },
  {
   "cell_type": "code",
   "execution_count": 13,
   "id": "99029123",
   "metadata": {},
   "outputs": [],
   "source": [
    "def sidi(x, TOL, N, g):\n",
    "    \"\"\"\n",
    "    Sidi's Method for finding a fixed point of a function.\n",
    "\n",
    "    Parameters:\n",
    "    - x: Initial values x0, x1, ..., xk.\n",
    "    - TOL: Desired accuracy.\n",
    "    - N: Maximum number of iterations.\n",
    "    - g: Function g.\n",
    "\n",
    "    Returns:\n",
    "    - X: Approximation x near the exact fixed point or a message of failure.\n",
    "    - j: Number of iterations.\n",
    "    \"\"\"\n",
    "    n = len(x)  # Number of initial values\n",
    "    # Initialize the table of divided differences G\n",
    "    G = [[g(xi) for xi in x] for _ in range(n)]\n",
    "\n",
    "    # Calculate divided differences using nested loops\n",
    "    for j in range(2, n + 1):\n",
    "        for i in range(0, n - j + 1):\n",
    "            G[i][j - 1] = (G[i + 1][j - 2] - G[i][j - 2]) / (x[i + j - 1] - x[i])\n",
    "\n",
    "    # Iterate using Sidi's Method\n",
    "    for i in range(N):\n",
    "        s = G[0][n - 1]\n",
    "        for j in range(2, n):\n",
    "            s = (x[n - 1] - x[j - 1]) * s + G[j - 1][n - j]\n",
    "\n",
    "        # Check for division by zero\n",
    "        if s == 0:\n",
    "            X = x[n - 1]  # Set X to a default value\n",
    "        else:\n",
    "            X = x[n - 1] - G[n - 1][0] / s  # Compute the next approximation\n",
    "\n",
    "        if abs(X - x[n - 1]) < TOL:\n",
    "            return X, i + 1  # Return the result if within tolerance\n",
    "\n",
    "        G[n][0] = g(X)\n",
    "\n",
    "        # Update the divided differences table\n",
    "        for j in range(n, 1, -1):\n",
    "            G[j - 1][n + 1 - j] = (G[j][n - j] - G[j - 1][n - j]) / (X - x[j - 1])\n",
    "\n",
    "        # Update the initial values list\n",
    "        x[:-1] = x[1:]\n",
    "        x[-1] = X\n",
    "\n",
    "        # Update the divided differences table\n",
    "        for j in range(n):\n",
    "            G[n - j][j] = G[n + 1 - j][j]\n",
    "\n",
    "    return \"Method failed. Maximum iterations exceeded.\"\n"
   ]
  },
  {
   "cell_type": "code",
   "execution_count": 14,
   "id": "5b79edfc",
   "metadata": {},
   "outputs": [
    {
     "name": "stdout",
     "output_type": "stream",
     "text": [
      "Result: 20.0\n",
      "Number of iterations: 1\n"
     ]
    }
   ],
   "source": [
    "# Example usage:\n",
    "def example_function(x):\n",
    "    return  x**3\n",
    "\n",
    "# Initial values\n",
    "initial_x_values = [10.0, 15.0, 20.0]\n",
    "\n",
    "# Run Sidi's Method\n",
    "tolerance = 1e-8\n",
    "max_iterations_limit = 10\n",
    "result, num_iterations = sidi(initial_x_values, tolerance, max_iterations_limit, example_function)\n",
    "\n",
    "# Print result or failure message\n",
    "print(\"Result:\", result)\n",
    "print(\"Number of iterations:\", num_iterations)"
   ]
  },
  {
   "cell_type": "code",
   "execution_count": null,
   "id": "0c9ceaf7",
   "metadata": {},
   "outputs": [],
   "source": []
  }
 ],
 "metadata": {
  "kernelspec": {
   "display_name": "Python 3 (ipykernel)",
   "language": "python",
   "name": "python3"
  },
  "language_info": {
   "codemirror_mode": {
    "name": "ipython",
    "version": 3
   },
   "file_extension": ".py",
   "mimetype": "text/x-python",
   "name": "python",
   "nbconvert_exporter": "python",
   "pygments_lexer": "ipython3",
   "version": "3.11.4"
  }
 },
 "nbformat": 4,
 "nbformat_minor": 5
}
